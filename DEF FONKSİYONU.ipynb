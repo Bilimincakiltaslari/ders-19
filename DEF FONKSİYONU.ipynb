{
 "cells": [
  {
   "cell_type": "code",
   "execution_count": 3,
   "metadata": {},
   "outputs": [],
   "source": [
    "def topla(a,b,c):  # fonksiyon tanımlıyoruz burada kullanıcının 3 sayı girmesi isteniyor.\n",
    "    print(a,\"+\",b,\"+\",c,\"=\",a+b+c)  # a,b,c harfleri kullanıcının gireceği 3 sayı yerine atanacak. \n",
    "def çarp(a,b,c):\n",
    "    print(a,\"x\",b,\"x\",c,\"=\",a*b*c)  # programı çalıştırıp (Run) aşağıdaki gibi örnekler yapınız."
   ]
  },
  {
   "cell_type": "code",
   "execution_count": 4,
   "metadata": {},
   "outputs": [
    {
     "name": "stdout",
     "output_type": "stream",
     "text": [
      "3 + 7 + 5 = 15\n"
     ]
    }
   ],
   "source": [
    "topla(3,7,5) # bu şekilde yazıp programı çalıştırırsak (Run veya shift + enter) aşağıdaki sonuç görülür."
   ]
  },
  {
   "cell_type": "code",
   "execution_count": 5,
   "metadata": {},
   "outputs": [
    {
     "name": "stdout",
     "output_type": "stream",
     "text": [
      "2 x 7 x 8 = 112\n"
     ]
    }
   ],
   "source": [
    "çarp(2,7,8) # bu şekilde yazıp programı çalıştırırsak (Run veya shift + enter) aşağıdaki sonuç görülür."
   ]
  },
  {
   "cell_type": "code",
   "execution_count": 6,
   "metadata": {},
   "outputs": [],
   "source": [
    "def topla(a,b):   # Kullanıcı a ile b değerlerinin yerine 2 sayı girecek.\n",
    "    toplam = 0    # Bu iki sayı dahil aralarındaki tüm sayıların toplamını bulmuş olacağız.\n",
    "    if a>=b:\n",
    "        b,a = a,b # a sayısı b sayısndan büyük ise yer değiştirecekler.\n",
    "    while a<=b:   # a, b sayısndan büyük olana kadar döngü devam eder.\n",
    "        toplam += a\n",
    "        a = a + 1\n",
    "    return toplam # Bu programı çalıştırıp alt satırda topla(a,b) yazınca sonuç toplamının çıktısını almış oluruz."
   ]
  },
  {
   "cell_type": "code",
   "execution_count": 7,
   "metadata": {},
   "outputs": [
    {
     "data": {
      "text/plain": [
       "49"
      ]
     },
     "execution_count": 7,
     "metadata": {},
     "output_type": "execute_result"
    }
   ],
   "source": [
    "topla(4,10)"
   ]
  },
  {
   "cell_type": "code",
   "execution_count": 8,
   "metadata": {},
   "outputs": [
    {
     "name": "stdout",
     "output_type": "stream",
     "text": [
      "Toplam = 8, Fark = -2\n"
     ]
    }
   ],
   "source": [
    "def f(x, y):\n",
    "    return x+y, x-y\n",
    "\n",
    "toplam, fark = f(3,5)\n",
    "print(\"Toplam = {}, Fark = {}\".format(toplam,fark))"
   ]
  },
  {
   "cell_type": "code",
   "execution_count": 2,
   "metadata": {},
   "outputs": [
    {
     "name": "stdout",
     "output_type": "stream",
     "text": [
      "sayı gir 5\n",
      "sayı gir 9\n",
      "sayı gir 25\n",
      "sayı gir 61\n",
      "sayı gir 50\n",
      "sayı gir 75\n",
      "sayı gir 17\n",
      "sayı gir 0\n",
      "[5, 9, 25, 61, 50, 75, 17]\n",
      "Yukarıdaki 7 sayının toplamı= 242\n"
     ]
    }
   ],
   "source": [
    "def topla(): # burada kulancının istediğ kadar sayı girip toplamalarını bulacak bir fonksiyon tanımlıyoruz.\n",
    "    toplam = 0\n",
    "    for i in liste:\n",
    "        toplam = toplam + i\n",
    "    return toplam\n",
    "kont = True      # Kontrol true olduğu sürece döngü devam ederek kullanıcı sayı girebilecek\n",
    "liste=[]         # Boş bir liste açtık kullanıcı sayı girdikçe ekleyebilmek için.\n",
    "while kont:\n",
    "    sayı = int(input(\"sayı gir \"))\n",
    "    if sayı==0:\n",
    "        kont = False   # Kulanıcının 0 rakamını girmesi halinde döngü duracak ve print çıktıları alınacak.\n",
    "    else:\n",
    "        liste.append(sayı)  # Kullanıcının sıfırdan farklı girdiğ her sayı listeye eklenecek.\n",
    "print(liste)\n",
    "print(\"Yukarıdaki\",len(liste),\"sayının toplamı=\",topla())"
   ]
  },
  {
   "cell_type": "code",
   "execution_count": null,
   "metadata": {},
   "outputs": [],
   "source": [
    "def topla():\n",
    "    toplam = 0\n",
    "    for i in liste:\n",
    "        toplam = toplam + i\n",
    "    return toplam\n",
    "def aortalama():\n",
    "    toplam = 0\n",
    "    for i in liste:\n",
    "        toplam = toplam + i\n",
    "    return toplam/len(liste)\n",
    "def carp():\n",
    "    carpım = 1\n",
    "    for i in liste:\n",
    "        carpım = carpım * i\n",
    "    return carpım\n",
    "def gortalama():\n",
    "    carpım = 1\n",
    "    for i in liste:\n",
    "        carpım = carpım * i\n",
    "    return carpım**(1/len(liste))\n",
    "liste = []\n",
    "kont = True\n",
    "sayı = 0\n",
    "while kont:\n",
    "    sayı = int(input(\"sayı gir \"))\n",
    "    if sayı==0:\n",
    "        kont = False\n",
    "    else:\n",
    "        liste.append(sayı)\n",
    "print(\"Sayıların Toplamı          Aritmetik Ortalaması          Sayıların Çarpımı          Geometrik ortalaması\")\n",
    "print(\"       {}                        {}                           {}                         {}\".format(topla(),aortalama(),carp(),gortalama()))"
   ]
  },
  {
   "cell_type": "code",
   "execution_count": null,
   "metadata": {},
   "outputs": [],
   "source": []
  }
 ],
 "metadata": {
  "kernelspec": {
   "display_name": "Python 3",
   "language": "python",
   "name": "python3"
  },
  "language_info": {
   "codemirror_mode": {
    "name": "ipython",
    "version": 3
   },
   "file_extension": ".py",
   "mimetype": "text/x-python",
   "name": "python",
   "nbconvert_exporter": "python",
   "pygments_lexer": "ipython3",
   "version": "3.7.3"
  }
 },
 "nbformat": 4,
 "nbformat_minor": 2
}
